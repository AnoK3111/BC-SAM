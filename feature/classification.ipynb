{
 "cells": [
  {
   "cell_type": "code",
   "execution_count": 1,
   "metadata": {},
   "outputs": [],
   "source": [
    "import numpy as np\n",
    "from sklearn.model_selection import StratifiedKFold\n",
    "from sklearn.metrics import accuracy_score, confusion_matrix\n",
    "from sklearn.preprocessing import StandardScaler\n",
    "from sklearn.neural_network import MLPClassifier\n",
    "from sklearn.ensemble import RandomForestClassifier\n",
    "from sklearn.svm import SVC\n",
    "from sklearn.linear_model import LogisticRegression\n",
    "from xgboost import XGBClassifier\n",
    "import os\n",
    "import random\n",
    "import matplotlib.pyplot as plt\n",
    "import seaborn as sns"
   ]
  },
  {
   "cell_type": "code",
   "execution_count": 2,
   "metadata": {},
   "outputs": [],
   "source": [
    "seed=1234\n",
    "random.seed(seed)\n",
    "np.random.seed(seed)\n",
    "Datasets=['Matek', 'Acevedo']"
   ]
  },
  {
   "cell_type": "code",
   "execution_count": 3,
   "metadata": {},
   "outputs": [],
   "source": [
    "x = np.load('./X.npy')\n",
    "y = np.load('./y.npy')\n",
    "dataset = np.load('./dataset.npy')\n",
    "kf = StratifiedKFold(n_splits=5, shuffle=True, random_state=seed)"
   ]
  },
  {
   "cell_type": "code",
   "execution_count": 4,
   "metadata": {},
   "outputs": [],
   "source": [
    "#preprocess for xgboost\n",
    "y[y==10]=-1\n",
    "y[y==3]=10\n",
    "y[y==-1]=3"
   ]
  },
  {
   "cell_type": "code",
   "execution_count": 5,
   "metadata": {},
   "outputs": [],
   "source": [
    "X={}\n",
    "Y={}\n",
    "for ds in range(len(Datasets)):\n",
    "    X[ds] = x[dataset == ds]\n",
    "    Y[ds] = y[dataset == ds]"
   ]
  },
  {
   "cell_type": "code",
   "execution_count": 6,
   "metadata": {},
   "outputs": [
    {
     "name": "stdout",
     "output_type": "stream",
     "text": [
      "RandomForestClassifier :\n",
      "train on Matek :\n",
      "test on Matek, acc mean : 0.890301, acc std : 0.004315\n",
      "test on Acevedo, acc mean : 0.240707, acc std : 0.004479\n",
      "train on Acevedo :\n",
      "test on Matek, acc mean : 0.519426, acc std : 0.008169\n",
      "test on Acevedo, acc mean : 0.704119, acc std : 0.01135\n"
     ]
    }
   ],
   "source": [
    "result={ds : {ds : np.zeros(5) for ds in Datasets} for ds in Datasets}\n",
    "cm=[np.zeros((13,13)), np.zeros((11,11))]\n",
    "print(\"RandomForestClassifier :\")\n",
    "for ds in range(len(Datasets)):\n",
    "    for fold, (train_index, test_index) in enumerate(kf.split(X[ds], Y[ds])):\n",
    "        rf = RandomForestClassifier(n_estimators=200, max_depth=16, n_jobs=64, random_state=seed)\n",
    "        rf.fit(X[ds][train_index],Y[ds][train_index])\n",
    "        pred = rf.predict(X[ds][test_index])\n",
    "        accuracy = accuracy_score(Y[ds][test_index], pred)\n",
    "        result[Datasets[ds]][Datasets[ds]][fold] = accuracy\n",
    "        for val_ds in range(len(Datasets)):\n",
    "            if val_ds == ds:\n",
    "                continue\n",
    "            pred = rf.predict(x[dataset == val_ds])\n",
    "            cm[val_ds] += confusion_matrix(y[dataset == val_ds], pred)\n",
    "            accuracy = accuracy_score(y[dataset == val_ds], pred)\n",
    "            result[Datasets[ds]][Datasets[val_ds]][fold] = accuracy\n",
    "\n",
    "for ds in Datasets:\n",
    "    print(\"train on {} :\".format(ds))\n",
    "    for val_ds in Datasets:\n",
    "        print(\"test on {}, acc mean : {:.6}, acc std : {:.4}\".format(val_ds, result[ds][val_ds].mean(), result[ds][val_ds].std()))\n"
   ]
  },
  {
   "cell_type": "code",
   "execution_count": 7,
   "metadata": {},
   "outputs": [
    {
     "name": "stdout",
     "output_type": "stream",
     "text": [
      "XGBoost :\n",
      "train on Matek :\n",
      "test on Matek, acc mean : 0.914182, acc std : 0.00589\n",
      "test on Acevedo, acc mean : 0.368452, acc std : 0.01036\n",
      "train on Acevedo :\n",
      "test on Matek, acc mean : 0.492231, acc std : 0.0103\n",
      "test on Acevedo, acc mean : 0.745239, acc std : 0.007921\n"
     ]
    }
   ],
   "source": [
    "result={ds : {ds : np.zeros(5) for ds in Datasets} for ds in Datasets}\n",
    "print(\"XGBoost :\")\n",
    "for ds in range(len(Datasets)):\n",
    "    for fold, (train_index, test_index) in enumerate(kf.split(X[ds], Y[ds])):\n",
    "        xgboost = XGBClassifier(random_state=seed)\n",
    "        xgboost.fit(X[ds][train_index],Y[ds][train_index])\n",
    "        pred = xgboost.predict(X[ds][test_index])\n",
    "        accuracy = accuracy_score(Y[ds][test_index], pred)\n",
    "        result[Datasets[ds]][Datasets[ds]][fold] = accuracy\n",
    "        for val_ds in range(len(Datasets)):\n",
    "            if val_ds == ds:\n",
    "                continue\n",
    "            pred = xgboost.predict(x[dataset == val_ds])\n",
    "            accuracy = accuracy_score(y[dataset == val_ds], pred)\n",
    "            result[Datasets[ds]][Datasets[val_ds]][fold] = accuracy\n",
    "\n",
    "    \n",
    "for ds in Datasets:\n",
    "    print(\"train on {} :\".format(ds))\n",
    "    for val_ds in Datasets:\n",
    "        print(\"test on {}, acc mean : {:.6}, acc std : {:.4}\".format(val_ds, result[ds][val_ds].mean(), result[ds][val_ds].std()))"
   ]
  },
  {
   "cell_type": "code",
   "execution_count": 8,
   "metadata": {},
   "outputs": [
    {
     "name": "stdout",
     "output_type": "stream",
     "text": [
      "SVM(poly) :\n",
      "train on Matek :\n",
      "test on Matek, acc mean : 0.909547, acc std : 0.004395\n",
      "test on Acevedo, acc mean : 0.247693, acc std : 0.00651\n",
      "train on Acevedo :\n",
      "test on Matek, acc mean : 0.508947, acc std : 0.004166\n",
      "test on Acevedo, acc mean : 0.730111, acc std : 0.004478\n"
     ]
    }
   ],
   "source": [
    "result={ds : {ds : np.zeros(5) for ds in Datasets} for ds in Datasets}\n",
    "print('SVM(poly) :')\n",
    "for ds in range(len(Datasets)):\n",
    "    for fold, (train_index, test_index) in enumerate(kf.split(X[ds], Y[ds])):\n",
    "        scaler = StandardScaler()\n",
    "        svc = SVC(kernel='poly', random_state=seed)\n",
    "        svc.fit(scaler.fit_transform(X[ds][train_index]),Y[ds][train_index])\n",
    "        pred = svc.predict(scaler.transform(X[ds][test_index]))\n",
    "        accuracy = accuracy_score(Y[ds][test_index], pred)\n",
    "        result[Datasets[ds]][Datasets[ds]][fold] = accuracy\n",
    "        for val_ds in range(len(Datasets)):\n",
    "            if val_ds == ds:\n",
    "                continue\n",
    "            pred = svc.predict(scaler.transform(x[dataset == val_ds]))\n",
    "            accuracy = accuracy_score(y[dataset == val_ds], pred)\n",
    "            result[Datasets[ds]][Datasets[val_ds]][fold] = accuracy\n",
    "\n",
    "    \n",
    "for ds in Datasets:\n",
    "    print(\"train on {} :\".format(ds))\n",
    "    for val_ds in Datasets:\n",
    "        print(\"test on {}, acc mean : {:.6}, acc std : {:.4}\".format(val_ds, result[ds][val_ds].mean(), result[ds][val_ds].std()))"
   ]
  },
  {
   "cell_type": "code",
   "execution_count": 9,
   "metadata": {},
   "outputs": [
    {
     "name": "stdout",
     "output_type": "stream",
     "text": [
      "SVM(rbf) :\n",
      "train on Matek :\n",
      "test on Matek, acc mean : 0.926122, acc std : 0.004887\n",
      "test on Acevedo, acc mean : 0.475005, acc std : 0.006272\n",
      "train on Acevedo :\n",
      "test on Matek, acc mean : 0.345303, acc std : 0.01381\n",
      "test on Acevedo, acc mean : 0.782783, acc std : 0.005986\n"
     ]
    }
   ],
   "source": [
    "result={ds : {ds : np.zeros(5) for ds in Datasets} for ds in Datasets}\n",
    "print('SVM(rbf) :')\n",
    "for ds in range(len(Datasets)):\n",
    "    for fold, (train_index, test_index) in enumerate(kf.split(X[ds], Y[ds])):\n",
    "        scaler = StandardScaler()\n",
    "        svc = SVC(kernel='rbf', random_state=seed)\n",
    "        svc.fit(scaler.fit_transform(X[ds][train_index]),Y[ds][train_index])\n",
    "        pred = svc.predict(scaler.transform(X[ds][test_index]))\n",
    "        accuracy = accuracy_score(Y[ds][test_index], pred)\n",
    "        result[Datasets[ds]][Datasets[ds]][fold] = accuracy\n",
    "        for val_ds in range(len(Datasets)):\n",
    "            if val_ds == ds:\n",
    "                continue\n",
    "            pred = svc.predict(scaler.transform(x[dataset == val_ds]))\n",
    "            accuracy = accuracy_score(y[dataset == val_ds], pred)\n",
    "            result[Datasets[ds]][Datasets[val_ds]][fold] = accuracy\n",
    "\n",
    "    \n",
    "for ds in Datasets:\n",
    "    print(\"train on {} :\".format(ds))\n",
    "    for val_ds in Datasets:\n",
    "        print(\"test on {}, acc mean : {:.6}, acc std : {:.4}\".format(val_ds, result[ds][val_ds].mean(), result[ds][val_ds].std()))"
   ]
  },
  {
   "cell_type": "code",
   "execution_count": 10,
   "metadata": {},
   "outputs": [
    {
     "name": "stdout",
     "output_type": "stream",
     "text": [
      "mlp :\n",
      "train on Matek :\n",
      "test on Matek, acc mean : 0.922851, acc std : 0.003538\n",
      "test on Acevedo, acc mean : 0.412157, acc std : 0.0105\n",
      "train on Acevedo :\n",
      "test on Matek, acc mean : 0.429355, acc std : 0.02419\n",
      "test on Acevedo, acc mean : 0.77742, acc std : 0.009402\n"
     ]
    }
   ],
   "source": [
    "result={ds : {ds : np.zeros(5) for ds in Datasets} for ds in Datasets}\n",
    "print('mlp :')\n",
    "for ds in range(len(Datasets)):\n",
    "    for fold, (train_index, test_index) in enumerate(kf.split(X[ds], Y[ds])):\n",
    "        scaler = StandardScaler()\n",
    "        mlp = MLPClassifier(max_iter=1000, early_stopping=True, random_state=seed)\n",
    "        mlp.fit(scaler.fit_transform(X[ds][train_index]),Y[ds][train_index])\n",
    "        pred = mlp.predict(scaler.transform(X[ds][test_index]))\n",
    "        accuracy = accuracy_score(Y[ds][test_index], pred)\n",
    "        result[Datasets[ds]][Datasets[ds]][fold] = accuracy\n",
    "        for val_ds in range(len(Datasets)):\n",
    "            if val_ds == ds:\n",
    "                continue\n",
    "            pred = mlp.predict(scaler.transform(x[dataset == val_ds]))\n",
    "            accuracy = accuracy_score(y[dataset == val_ds], pred)\n",
    "            result[Datasets[ds]][Datasets[val_ds]][fold] = accuracy\n",
    "\n",
    "    \n",
    "for ds in Datasets:\n",
    "    print(\"train on {} :\".format(ds))\n",
    "    for val_ds in Datasets:\n",
    "        print(\"test on {}, acc mean : {:.6}, acc std : {:.4}\".format(val_ds, result[ds][val_ds].mean(), result[ds][val_ds].std()))"
   ]
  },
  {
   "cell_type": "code",
   "execution_count": 11,
   "metadata": {},
   "outputs": [
    {
     "name": "stdout",
     "output_type": "stream",
     "text": [
      "LogisticRegression :\n",
      "train on Matek :\n",
      "test on Matek, acc mean : 0.917889, acc std : 0.004127\n",
      "test on Acevedo, acc mean : 0.346861, acc std : 0.005594\n",
      "train on Acevedo :\n",
      "test on Matek, acc mean : 0.40771, acc std : 0.007263\n",
      "test on Acevedo, acc mean : 0.756241, acc std : 0.009976\n"
     ]
    }
   ],
   "source": [
    "result={ds : {ds : np.zeros(5) for ds in Datasets} for ds in Datasets}\n",
    "print('LogisticRegression :')\n",
    "for ds in range(len(Datasets)):\n",
    "    for fold, (train_index, test_index) in enumerate(kf.split(X[ds], Y[ds])):\n",
    "        scaler = StandardScaler()\n",
    "        lr = LogisticRegression(max_iter=500, random_state=seed)\n",
    "        lr.fit(scaler.fit_transform(X[ds][train_index]),Y[ds][train_index])\n",
    "        pred = lr.predict(scaler.transform(X[ds][test_index]))\n",
    "        accuracy = accuracy_score(Y[ds][test_index], pred)\n",
    "        result[Datasets[ds]][Datasets[ds]][fold] = accuracy\n",
    "        for val_ds in range(len(Datasets)):\n",
    "            if val_ds == ds:\n",
    "                continue\n",
    "            pred = lr.predict(scaler.transform(x[dataset == val_ds]))\n",
    "            accuracy = accuracy_score(y[dataset == val_ds], pred)\n",
    "            result[Datasets[ds]][Datasets[val_ds]][fold] = accuracy\n",
    "\n",
    "    \n",
    "for ds in Datasets:\n",
    "    print(\"train on {} :\".format(ds))\n",
    "    for val_ds in Datasets:\n",
    "        print(\"test on {}, acc mean : {:.6}, acc std : {:.4}\".format(val_ds, result[ds][val_ds].mean(), result[ds][val_ds].std()))"
   ]
  }
 ],
 "metadata": {
  "kernelspec": {
   "display_name": "pytorch",
   "language": "python",
   "name": "python3"
  },
  "language_info": {
   "codemirror_mode": {
    "name": "ipython",
    "version": 3
   },
   "file_extension": ".py",
   "mimetype": "text/x-python",
   "name": "python",
   "nbconvert_exporter": "python",
   "pygments_lexer": "ipython3",
   "version": "3.9.17"
  }
 },
 "nbformat": 4,
 "nbformat_minor": 2
}
